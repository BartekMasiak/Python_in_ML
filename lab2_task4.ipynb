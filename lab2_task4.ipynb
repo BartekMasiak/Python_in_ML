{
  "nbformat": 4,
  "nbformat_minor": 0,
  "metadata": {
    "colab": {
      "provenance": [],
      "authorship_tag": "ABX9TyMEZkI6e+6zwL2rfXlwd/VM",
      "include_colab_link": true
    },
    "kernelspec": {
      "name": "python3",
      "display_name": "Python 3"
    },
    "language_info": {
      "name": "python"
    }
  },
  "cells": [
    {
      "cell_type": "markdown",
      "metadata": {
        "id": "view-in-github",
        "colab_type": "text"
      },
      "source": [
        "<a href=\"https://colab.research.google.com/github/BartekMasiak/Python_in_ML/blob/master/lab2_task4.ipynb\" target=\"_parent\"><img src=\"https://colab.research.google.com/assets/colab-badge.svg\" alt=\"Open In Colab\"/></a>"
      ]
    },
    {
      "cell_type": "code",
      "execution_count": 3,
      "metadata": {
        "id": "4gjFiMFfYDWr",
        "outputId": "6f211865-47c6-4357-cdaa-8947621f8c34",
        "colab": {
          "base_uri": "https://localhost:8080/"
        }
      },
      "outputs": [
        {
          "output_type": "stream",
          "name": "stdout",
          "text": [
            "woooo!\n"
          ]
        }
      ],
      "source": [
        "def celebrate():\n",
        "  print(\"woooo!\")\n",
        "  return\n",
        "\n",
        "if True:\n",
        "  celebrate()\n",
        "\n"
      ]
    }
  ]
}